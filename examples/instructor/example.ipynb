{
 "cells": [
  {
   "cell_type": "markdown",
   "metadata": {},
   "source": [
    "# Using OnnxRuntime with instructor-base\n",
    "- Run `optimum-cli export onnx --model hkunlp/instructor-base instructor_base_onnx/`"
   ]
  },
  {
   "cell_type": "markdown",
   "metadata": {},
   "source": [
    "### Load onnx model"
   ]
  },
  {
   "cell_type": "code",
   "execution_count": 2,
   "metadata": {},
   "outputs": [],
   "source": [
    "from onnxruntime import InferenceSession\n",
    "import numpy as np\n",
    "\n",
    "\n",
    "# only need encoder\n",
    "instructor_encoder_sess = InferenceSession('./instructor_base_onnx/encoder_model.onnx')"
   ]
  },
  {
   "cell_type": "markdown",
   "metadata": {},
   "source": [
    "### Load Instructor model"
   ]
  },
  {
   "cell_type": "code",
   "execution_count": 3,
   "metadata": {},
   "outputs": [
    {
     "name": "stderr",
     "output_type": "stream",
     "text": [
      "/Users/mrezanvari/_MyFiles/Programs/Patagona-technologies/ggml-python/examples/instructor/.venv/lib/python3.8/site-packages/InstructorEmbedding/instructor.py:7: TqdmExperimentalWarning: Using `tqdm.autonotebook.tqdm` in notebook mode. Use `tqdm.tqdm` instead to force console mode (e.g. in jupyter console)\n",
      "  from tqdm.autonotebook import trange\n"
     ]
    },
    {
     "name": "stdout",
     "output_type": "stream",
     "text": [
      "load INSTRUCTOR_Transformer\n",
      "max_seq_length  512\n",
      "load INSTRUCTOR_Transformer\n",
      "max_seq_length  512\n"
     ]
    }
   ],
   "source": [
    "from InstructorEmbedding import INSTRUCTOR\n",
    "\n",
    "# OG model\n",
    "instructor_model = INSTRUCTOR('hkunlp/instructor-base')\n",
    "\n",
    "# onnx test model\n",
    "instructor_onnx = INSTRUCTOR('hkunlp/instructor-base')"
   ]
  },
  {
   "cell_type": "markdown",
   "metadata": {},
   "source": [
    "### Custom onnx model"
   ]
  },
  {
   "cell_type": "code",
   "execution_count": 5,
   "metadata": {},
   "outputs": [],
   "source": [
    "import torch.nn as nn\n",
    "\n",
    "class OnnxModule(nn.Module):\n",
    "    def __init__(self, inference_session):\n",
    "          super().__init__()\n",
    "          self._inference_session = inference_session\n",
    "          \n",
    "    def forward(self, *args, **kwargs):\n",
    "\n",
    "          kwargs = {'input_ids': np.array(kwargs['input_ids']), 'attention_mask': np.array(kwargs['attention_mask'])}\n",
    "          return self._inference_session.run(None, kwargs)\n",
    "\n",
    "\n",
    "# replace transfromer model forward call with custom onnx model\n",
    "\n",
    "for i in instructor_onnx.modules():\n",
    "    if i._get_name() == 'INSTRUCTOR_Transformer':\n",
    "        i.auto_model.__call__ = OnnxModule(instructor_encoder_sess).forward\n",
    "        \n",
    "        break"
   ]
  },
  {
   "cell_type": "markdown",
   "metadata": {},
   "source": [
    "### Compare embeddings"
   ]
  },
  {
   "cell_type": "code",
   "execution_count": 6,
   "metadata": {},
   "outputs": [],
   "source": [
    "sentence = \"This is a sentence to test instructor embedding model\"\n",
    "instruction = \"\"\n",
    "\n",
    "\n",
    "real_embeddings = instructor_model.encode([[instruction, sentence]])\n",
    "onnx_embeddings = instructor_onnx.encode([[instruction, sentence]])"
   ]
  },
  {
   "cell_type": "code",
   "execution_count": 7,
   "metadata": {},
   "outputs": [
    {
     "data": {
      "text/plain": [
       "array([[1.]], dtype=float32)"
      ]
     },
     "execution_count": 7,
     "metadata": {},
     "output_type": "execute_result"
    }
   ],
   "source": [
    "from sklearn.metrics.pairwise import cosine_similarity\n",
    "\n",
    "\n",
    "cosine_similarity(onnx_embeddings, real_embeddings)\n"
   ]
  }
 ],
 "metadata": {
  "kernelspec": {
   "display_name": ".venv",
   "language": "python",
   "name": "python3"
  },
  "language_info": {
   "codemirror_mode": {
    "name": "ipython",
    "version": 3
   },
   "file_extension": ".py",
   "mimetype": "text/x-python",
   "name": "python",
   "nbconvert_exporter": "python",
   "pygments_lexer": "ipython3",
   "version": "3.8.2"
  },
  "orig_nbformat": 4
 },
 "nbformat": 4,
 "nbformat_minor": 2
}
